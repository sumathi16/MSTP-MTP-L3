{
 "cells": [
  {
   "cell_type": "code",
   "execution_count": 1,
   "metadata": {},
   "outputs": [
    {
     "name": "stdout",
     "output_type": "stream",
     "text": [
      "<class 'str'>\n"
     ]
    }
   ],
   "source": [
    "print(type('hgdj'))"
   ]
  },
  {
   "cell_type": "code",
   "execution_count": 2,
   "metadata": {
    "collapsed": true
   },
   "outputs": [
    {
     "data": {
      "text/plain": [
       "['__add__',\n",
       " '__class__',\n",
       " '__contains__',\n",
       " '__delattr__',\n",
       " '__dir__',\n",
       " '__doc__',\n",
       " '__eq__',\n",
       " '__format__',\n",
       " '__ge__',\n",
       " '__getattribute__',\n",
       " '__getitem__',\n",
       " '__getnewargs__',\n",
       " '__gt__',\n",
       " '__hash__',\n",
       " '__init__',\n",
       " '__init_subclass__',\n",
       " '__iter__',\n",
       " '__le__',\n",
       " '__len__',\n",
       " '__lt__',\n",
       " '__mod__',\n",
       " '__mul__',\n",
       " '__ne__',\n",
       " '__new__',\n",
       " '__reduce__',\n",
       " '__reduce_ex__',\n",
       " '__repr__',\n",
       " '__rmod__',\n",
       " '__rmul__',\n",
       " '__setattr__',\n",
       " '__sizeof__',\n",
       " '__str__',\n",
       " '__subclasshook__',\n",
       " 'capitalize',\n",
       " 'casefold',\n",
       " 'center',\n",
       " 'count',\n",
       " 'encode',\n",
       " 'endswith',\n",
       " 'expandtabs',\n",
       " 'find',\n",
       " 'format',\n",
       " 'format_map',\n",
       " 'index',\n",
       " 'isalnum',\n",
       " 'isalpha',\n",
       " 'isascii',\n",
       " 'isdecimal',\n",
       " 'isdigit',\n",
       " 'isidentifier',\n",
       " 'islower',\n",
       " 'isnumeric',\n",
       " 'isprintable',\n",
       " 'isspace',\n",
       " 'istitle',\n",
       " 'isupper',\n",
       " 'join',\n",
       " 'ljust',\n",
       " 'lower',\n",
       " 'lstrip',\n",
       " 'maketrans',\n",
       " 'partition',\n",
       " 'replace',\n",
       " 'rfind',\n",
       " 'rindex',\n",
       " 'rjust',\n",
       " 'rpartition',\n",
       " 'rsplit',\n",
       " 'rstrip',\n",
       " 'split',\n",
       " 'splitlines',\n",
       " 'startswith',\n",
       " 'strip',\n",
       " 'swapcase',\n",
       " 'title',\n",
       " 'translate',\n",
       " 'upper',\n",
       " 'zfill']"
      ]
     },
     "execution_count": 2,
     "metadata": {},
     "output_type": "execute_result"
    }
   ],
   "source": [
    "dir(str)"
   ]
  },
  {
   "cell_type": "code",
   "execution_count": 3,
   "metadata": {},
   "outputs": [
    {
     "ename": "NameError",
     "evalue": "name 'capitalize' is not defined",
     "output_type": "error",
     "traceback": [
      "\u001b[1;31m---------------------------------------------------------------------------\u001b[0m",
      "\u001b[1;31mNameError\u001b[0m                                 Traceback (most recent call last)",
      "\u001b[1;32m<ipython-input-3-3d6af8ecc792>\u001b[0m in \u001b[0;36m<module>\u001b[1;34m()\u001b[0m\n\u001b[1;32m----> 1\u001b[1;33m \u001b[0mcapitalize\u001b[0m\u001b[1;33m(\u001b[0m\u001b[1;34m'fggdsgh'\u001b[0m\u001b[1;33m)\u001b[0m\u001b[1;33m\u001b[0m\u001b[0m\n\u001b[0m",
      "\u001b[1;31mNameError\u001b[0m: name 'capitalize' is not defined"
     ]
    }
   ],
   "source": [
    "capitalize('fggdsgh')"
   ]
  },
  {
   "cell_type": "code",
   "execution_count": 4,
   "metadata": {},
   "outputs": [
    {
     "data": {
      "text/plain": [
       "'Fggdsgh'"
      ]
     },
     "execution_count": 4,
     "metadata": {},
     "output_type": "execute_result"
    }
   ],
   "source": [
    "'fggdsgh'.capitalize()"
   ]
  },
  {
   "cell_type": "code",
   "execution_count": 9,
   "metadata": {},
   "outputs": [],
   "source": [
    "class Point:\n",
    "    def distanceFromOrigin(self,x,y):\n",
    "        return (x*x +y*y)**0.5"
   ]
  },
  {
   "cell_type": "code",
   "execution_count": 11,
   "metadata": {},
   "outputs": [],
   "source": [
    "p = Point()"
   ]
  },
  {
   "cell_type": "code",
   "execution_count": 12,
   "metadata": {},
   "outputs": [
    {
     "data": {
      "text/plain": [
       "5.0"
      ]
     },
     "execution_count": 12,
     "metadata": {},
     "output_type": "execute_result"
    }
   ],
   "source": [
    "p.distanceFromOrigin(3,4)"
   ]
  },
  {
   "cell_type": "code",
   "execution_count": 13,
   "metadata": {},
   "outputs": [
    {
     "data": {
      "text/plain": [
       "5.0"
      ]
     },
     "execution_count": 13,
     "metadata": {},
     "output_type": "execute_result"
    }
   ],
   "source": [
    "Point().distanceFromOrigin(3,4)"
   ]
  },
  {
   "cell_type": "code",
   "execution_count": 41,
   "metadata": {},
   "outputs": [],
   "source": [
    "class Point:\n",
    "    def __init__(self,x=0,y=0): ## pair of underscores\n",
    "        self.x = x\n",
    "        self.y = y \n",
    "    def distanceFromOrigin(self):\n",
    "        return (self.x**2 +self.y**2)**0.5\n",
    "    def distance2Points(self,x1,y1):\n",
    "        return ((x1-self.x)**2 + (y1-self.y)**2) **0.5\n",
    "    def midpoint(self,x1,y1):\n",
    "        return Point((self.x + x1)/2,(self.y +y1)/2)\n",
    "    def print_point(self):\n",
    "        print('({},{})'.format(self.x,self.y))"
   ]
  },
  {
   "cell_type": "code",
   "execution_count": 42,
   "metadata": {},
   "outputs": [
    {
     "name": "stdout",
     "output_type": "stream",
     "text": [
      "0 0\n",
      "3 4\n",
      "0.0\n",
      "5.0\n",
      "3.605551275463989\n",
      "(2.0,2.5)\n"
     ]
    }
   ],
   "source": [
    "p1 = Point()\n",
    "print(p1.x,p1.y)\n",
    "p2 = Point(3,4)\n",
    "print(p2.x,p2.y)\n",
    "print(p1.distanceFromOrigin())\n",
    "print(p2.distanceFromOrigin())\n",
    "print(p2.distance2Points(1,1))\n",
    "mid =p2.midpoint(1,1)\n",
    "#print(mid.x,mid.y)\n",
    "mid.print_point()"
   ]
  },
  {
   "cell_type": "code",
   "execution_count": 24,
   "metadata": {},
   "outputs": [
    {
     "data": {
      "text/plain": [
       "3.605551275463989"
      ]
     },
     "execution_count": 24,
     "metadata": {},
     "output_type": "execute_result"
    }
   ],
   "source": [
    "13 **0.5"
   ]
  },
  {
   "cell_type": "markdown",
   "metadata": {},
   "source": [
    "Create a new class, SMS_store. The class will instantiate SMS_store objects, similar to\n",
    "an inbox or outbox on a cellphone:\n",
    "my_inbox = SMS_store()\n",
    "This store can hold multiple SMS messages (i.e. its internal state will just be a list of\n",
    "messages). Each message will be represented as a tuple:\n",
    "has_been_viewed, from_number, time_arrived, text_of_SMS)\n",
    "The inbox object should provide these methods:<br>\n",
    "`\n",
    "my_inbox.add_new_arrival(from_number, time_arrived, text_of_SMS)\n",
    "    #Makes new SMS tuple, inserts it after other messages\n",
    "    #in the store. When creating this message, its\n",
    "    #has_been_viewed status is set False.\n",
    "my_inbox.message_count()\n",
    "    #Returns the number of sms messages in my_inbox\n",
    "my_inbox.get_unread_indexes()\n",
    "    #Returns list of indexes of all not-yet-viewed SMS             #messages\n",
    "my_inbox.get_message(i)\n",
    "    #Return (from_number, time_arrived, text_of_sms) for           #message[i]\n",
    "    # Also change its state to \"has been viewed\".\n",
    "    # If there is no message at position i, return None\n",
    "my_inbox.delete(i) # Delete the message at index i\n",
    "my_inbox.clear() # Delete all messages from inbox`\n",
    "<br>\n",
    "Write the class, create a message store object, write tests for these methods, and implement\n",
    "the methods.<br>"
   ]
  },
  {
   "cell_type": "code",
   "execution_count": 21,
   "metadata": {},
   "outputs": [],
   "source": [
    "class SMS_store:\n",
    "        def __init__(self):\n",
    "            self.messages = []\n",
    "        def add_new_arrival(self,from_number, time_arrived, \\\n",
    "                            text_of_SMS):\n",
    "            #Makes new SMS tuple, inserts it after other messages\n",
    "            #in the store. When creating this message, its\n",
    "            #has_been_viewed status is set False.\n",
    "            self.messages.append([from_number,time_arrived,text_of_SMS,False])\n",
    "        def message_count(self):\n",
    "            #Returns the number of sms messages in my_inbox\n",
    "            return len(self.messages)\n",
    "        def get_unread_indexes(self):\n",
    "            #Returns list of indexes of all not-yet-viewed SMS messages\n",
    "            unread_ind =[]\n",
    "            for msg in range(len(self.messages)):\n",
    "                if self.meassages[msg][-1] ==False:\n",
    "                    unread_ind.append(msg)\n",
    "            return unread_ind\n",
    "        def get_message(self,i):\n",
    "            #Return (from_number, time_arrived, text_of_sms) for message[i]\n",
    "            # Also change its state to \"has been viewed\".\n",
    "            # If there is no message at position i, return None\n",
    "            self.messages[i][-1] = True\n",
    "            return self.messages[i][:3]\n",
    "        def delete(self,i):\n",
    "            # Delete the message at index i\n",
    "            self.messages.pop(i)\n",
    "        def clear():\n",
    "            # Delete all messages from inbox\n",
    "            self.messages.clear()        "
   ]
  },
  {
   "cell_type": "code",
   "execution_count": 22,
   "metadata": {},
   "outputs": [],
   "source": [
    "myInbox = SMS_store()\n",
    "myInbox.add_new_arrival(9187652645,'8:30AM','Hiiiii How are you')"
   ]
  },
  {
   "cell_type": "code",
   "execution_count": 27,
   "metadata": {},
   "outputs": [
    {
     "data": {
      "text/plain": [
       "[[9187652645, '8:30AM', 'Hiiiii How are you', False],\n",
       " [7665645453, '10:30AM', 'class', True]]"
      ]
     },
     "execution_count": 27,
     "metadata": {},
     "output_type": "execute_result"
    }
   ],
   "source": [
    "myInbox.messages"
   ]
  },
  {
   "cell_type": "code",
   "execution_count": 24,
   "metadata": {},
   "outputs": [],
   "source": [
    "myInbox.add_new_arrival(7665645453,'10:30AM','class')"
   ]
  },
  {
   "cell_type": "code",
   "execution_count": 25,
   "metadata": {},
   "outputs": [
    {
     "data": {
      "text/plain": [
       "2"
      ]
     },
     "execution_count": 25,
     "metadata": {},
     "output_type": "execute_result"
    }
   ],
   "source": [
    "myInbox.message_count()"
   ]
  },
  {
   "cell_type": "code",
   "execution_count": 26,
   "metadata": {},
   "outputs": [
    {
     "data": {
      "text/plain": [
       "[7665645453, '10:30AM', 'class']"
      ]
     },
     "execution_count": 26,
     "metadata": {},
     "output_type": "execute_result"
    }
   ],
   "source": [
    "myInbox.get_message(1)  "
   ]
  },
  {
   "cell_type": "code",
   "execution_count": null,
   "metadata": {},
   "outputs": [],
   "source": []
  },
  {
   "cell_type": "markdown",
   "metadata": {},
   "source": [
    "### Regular Expressions\n",
    "    - For checking available data valid for us or not\n",
    "    - To extract the data"
   ]
  },
  {
   "cell_type": "code",
   "execution_count": 28,
   "metadata": {},
   "outputs": [],
   "source": [
    "import re"
   ]
  },
  {
   "cell_type": "markdown",
   "metadata": {},
   "source": [
    "#### re.search(str_pattern,str_data)"
   ]
  },
  {
   "cell_type": "code",
   "execution_count": 29,
   "metadata": {},
   "outputs": [
    {
     "name": "stdout",
     "output_type": "stream",
     "text": [
      "<re.Match object; span=(12, 13), match='a'>\n"
     ]
    }
   ],
   "source": [
    "name = 'python program'\n",
    "print(re.search('a',name))"
   ]
  },
  {
   "cell_type": "code",
   "execution_count": 30,
   "metadata": {},
   "outputs": [
    {
     "name": "stdout",
     "output_type": "stream",
     "text": [
      "<re.Match object; span=(0, 1), match='p'>\n"
     ]
    }
   ],
   "source": [
    "name = 'python program'\n",
    "print(re.search('p',name))"
   ]
  },
  {
   "cell_type": "code",
   "execution_count": 34,
   "metadata": {},
   "outputs": [
    {
     "name": "stdout",
     "output_type": "stream",
     "text": [
      "None\n"
     ]
    }
   ],
   "source": [
    "name = 'python program'\n",
    "print(re.search('p,o',name))"
   ]
  },
  {
   "cell_type": "markdown",
   "metadata": {},
   "source": [
    "#### print the names which contains 'u' or 'l','k','j ,'h', in their name by using regular expression"
   ]
  },
  {
   "cell_type": "code",
   "execution_count": 91,
   "metadata": {},
   "outputs": [
    {
     "name": "stdout",
     "output_type": "stream",
     "text": [
      "sairam\n",
      "lakshmi\n",
      "hanuman\n",
      "raju\n"
     ]
    }
   ],
   "source": [
    "names = ['sairam','lakshmi','hanuman','raju']\n",
    "for name in names:\n",
    "    if re.search('a',name):\n",
    "        print(name)\n"
   ]
  },
  {
   "cell_type": "markdown",
   "metadata": {},
   "source": [
    "### re.match(str_pattern,str_data)"
   ]
  },
  {
   "cell_type": "code",
   "execution_count": 35,
   "metadata": {},
   "outputs": [
    {
     "name": "stdout",
     "output_type": "stream",
     "text": [
      "<re.Match object; span=(0, 1), match='p'>\n"
     ]
    }
   ],
   "source": [
    "name = 'python program'\n",
    "print(re.match('p',name))"
   ]
  },
  {
   "cell_type": "code",
   "execution_count": 36,
   "metadata": {},
   "outputs": [
    {
     "name": "stdout",
     "output_type": "stream",
     "text": [
      "None\n"
     ]
    }
   ],
   "source": [
    "name = 'python program'\n",
    "print(re.match('r',name))"
   ]
  },
  {
   "cell_type": "code",
   "execution_count": 38,
   "metadata": {},
   "outputs": [
    {
     "name": "stdout",
     "output_type": "stream",
     "text": [
      "None\n"
     ]
    }
   ],
   "source": [
    "name = 'python program'\n",
    "print(re.match('pr',name))"
   ]
  },
  {
   "cell_type": "markdown",
   "metadata": {},
   "source": [
    "#### re.findall(str_pattern,str_data)"
   ]
  },
  {
   "cell_type": "code",
   "execution_count": 94,
   "metadata": {},
   "outputs": [
    {
     "name": "stdout",
     "output_type": "stream",
     "text": [
      "['p', 'p']\n"
     ]
    }
   ],
   "source": [
    "name = 'python programming'\n",
    "print(re.findall('p',name))"
   ]
  },
  {
   "cell_type": "markdown",
   "metadata": {},
   "source": [
    "#### special characters with special meaning in regular expression"
   ]
  },
  {
   "cell_type": "markdown",
   "metadata": {},
   "source": [
    "### . dot\n",
    "        Any single character"
   ]
  },
  {
   "cell_type": "code",
   "execution_count": 43,
   "metadata": {},
   "outputs": [
    {
     "name": "stdout",
     "output_type": "stream",
     "text": [
      "<re.Match object; span=(0, 1), match='s'>\n"
     ]
    }
   ],
   "source": [
    "print(re.search('.','sairam'))"
   ]
  },
  {
   "cell_type": "code",
   "execution_count": 44,
   "metadata": {},
   "outputs": [
    {
     "name": "stdout",
     "output_type": "stream",
     "text": [
      "<re.Match object; span=(0, 2), match='sa'>\n"
     ]
    }
   ],
   "source": [
    "print(re.search('s.','sairam'))"
   ]
  },
  {
   "cell_type": "code",
   "execution_count": 45,
   "metadata": {},
   "outputs": [
    {
     "name": "stdout",
     "output_type": "stream",
     "text": [
      "<re.Match object; span=(2, 4), match='ir'>\n"
     ]
    }
   ],
   "source": [
    "print(re.search('i.','sairam'))"
   ]
  },
  {
   "cell_type": "code",
   "execution_count": 46,
   "metadata": {},
   "outputs": [
    {
     "name": "stdout",
     "output_type": "stream",
     "text": [
      "<re.Match object; span=(0, 2), match='sa'>\n"
     ]
    }
   ],
   "source": [
    "print(re.match('s.','sairam'))"
   ]
  },
  {
   "cell_type": "code",
   "execution_count": 47,
   "metadata": {},
   "outputs": [
    {
     "name": "stdout",
     "output_type": "stream",
     "text": [
      "None\n"
     ]
    }
   ],
   "source": [
    "print(re.match('i.','sairam'))"
   ]
  },
  {
   "cell_type": "code",
   "execution_count": 48,
   "metadata": {},
   "outputs": [
    {
     "data": {
      "text/plain": [
       "<re.Match object; span=(0, 3), match='sai'>"
      ]
     },
     "execution_count": 48,
     "metadata": {},
     "output_type": "execute_result"
    }
   ],
   "source": [
    "re.search('...','sairam')"
   ]
  },
  {
   "cell_type": "code",
   "execution_count": 49,
   "metadata": {},
   "outputs": [
    {
     "data": {
      "text/plain": [
       "<re.Match object; span=(0, 3), match='ram'>"
      ]
     },
     "execution_count": 49,
     "metadata": {},
     "output_type": "execute_result"
    }
   ],
   "source": [
    "re.search('...','ram')"
   ]
  },
  {
   "cell_type": "code",
   "execution_count": 50,
   "metadata": {},
   "outputs": [],
   "source": [
    "re.search('.....','sree')"
   ]
  },
  {
   "cell_type": "code",
   "execution_count": 51,
   "metadata": {
    "collapsed": true
   },
   "outputs": [
    {
     "name": "stdout",
     "output_type": "stream",
     "text": [
      "123\n",
      "1234\n",
      "123\n",
      "1234\n"
     ]
    }
   ],
   "source": [
    "numbers = ['12','123','1234','123','1234']\n",
    "for number in numbers:\n",
    "    if re.search('...',number):\n",
    "        print(number)"
   ]
  },
  {
   "cell_type": "markdown",
   "metadata": {},
   "source": [
    " ###  ^ \n",
    "     starting with "
   ]
  },
  {
   "cell_type": "code",
   "execution_count": 54,
   "metadata": {},
   "outputs": [
    {
     "data": {
      "text/plain": [
       "<re.Match object; span=(0, 3), match='sai'>"
      ]
     },
     "execution_count": 54,
     "metadata": {},
     "output_type": "execute_result"
    }
   ],
   "source": [
    "re.search('^sai','sairam')"
   ]
  },
  {
   "cell_type": "code",
   "execution_count": 53,
   "metadata": {},
   "outputs": [],
   "source": [
    "re.search('^r','sai ram')"
   ]
  },
  {
   "cell_type": "markdown",
   "metadata": {},
   "source": [
    "#### $\n",
    "    ending with"
   ]
  },
  {
   "cell_type": "code",
   "execution_count": 55,
   "metadata": {},
   "outputs": [
    {
     "data": {
      "text/plain": [
       "<re.Match object; span=(5, 6), match='m'>"
      ]
     },
     "execution_count": 55,
     "metadata": {},
     "output_type": "execute_result"
    }
   ],
   "source": [
    "re.search('m$','sairam')"
   ]
  },
  {
   "cell_type": "code",
   "execution_count": 56,
   "metadata": {},
   "outputs": [],
   "source": [
    "re.search('a$','sairam')"
   ]
  },
  {
   "cell_type": "code",
   "execution_count": null,
   "metadata": {},
   "outputs": [],
   "source": [
    "re.search('a$','sairam')"
   ]
  },
  {
   "cell_type": "code",
   "execution_count": 59,
   "metadata": {},
   "outputs": [
    {
     "name": "stdout",
     "output_type": "stream",
     "text": [
      "123\n",
      "123\n"
     ]
    }
   ],
   "source": [
    "numbers = ['12','123','1234','123','1234']\n",
    "for number in numbers:\n",
    "    if re.search('^...$',number):\n",
    "        print(number)"
   ]
  },
  {
   "cell_type": "code",
   "execution_count": 61,
   "metadata": {},
   "outputs": [
    {
     "data": {
      "text/plain": [
       "<re.Match object; span=(3, 6), match='ram'>"
      ]
     },
     "execution_count": 61,
     "metadata": {},
     "output_type": "execute_result"
    }
   ],
   "source": [
    "re.search('ram$','sairam')"
   ]
  },
  {
   "cell_type": "code",
   "execution_count": 60,
   "metadata": {},
   "outputs": [
    {
     "name": "stdout",
     "output_type": "stream",
     "text": [
      "123\n",
      "163\n"
     ]
    }
   ],
   "source": [
    "numbers = ['12','123','1234','163','1234']\n",
    "for number in numbers:\n",
    "    if re.search('^1.3$',number):\n",
    "        print(number)"
   ]
  },
  {
   "cell_type": "code",
   "execution_count": null,
   "metadata": {},
   "outputs": [],
   "source": []
  },
  {
   "cell_type": "markdown",
   "metadata": {},
   "source": [
    "##### \\d\n",
    "    any single digit"
   ]
  },
  {
   "cell_type": "code",
   "execution_count": 96,
   "metadata": {},
   "outputs": [
    {
     "data": {
      "text/plain": [
       "<re.Match object; span=(6, 7), match='1'>"
      ]
     },
     "execution_count": 96,
     "metadata": {},
     "output_type": "execute_result"
    }
   ],
   "source": [
    "re.search('\\d','sairam1ram2')"
   ]
  },
  {
   "cell_type": "markdown",
   "metadata": {},
   "source": [
    "### find the sum of all the digits in data"
   ]
  },
  {
   "cell_type": "code",
   "execution_count": 63,
   "metadata": {},
   "outputs": [],
   "source": [
    "novel = 'every 1 has a story or 100 stories'\n",
    "#print(sum(map(int,re.findall('\\d',novel))))"
   ]
  },
  {
   "cell_type": "code",
   "execution_count": 70,
   "metadata": {},
   "outputs": [
    {
     "data": {
      "text/plain": [
       "['1', '1', '0', '0', '2', '0', '0']"
      ]
     },
     "execution_count": 70,
     "metadata": {},
     "output_type": "execute_result"
    }
   ],
   "source": [
    "novel = 'every 1 has a story or 100 stories 200 hi'\n",
    "str_numbers = re.findall('\\d',novel)\n",
    "str_numbers"
   ]
  },
  {
   "cell_type": "markdown",
   "metadata": {},
   "source": [
    "map(fun,collect_items)"
   ]
  },
  {
   "cell_type": "code",
   "execution_count": 68,
   "metadata": {},
   "outputs": [
    {
     "data": {
      "text/plain": [
       "2"
      ]
     },
     "execution_count": 68,
     "metadata": {},
     "output_type": "execute_result"
    }
   ],
   "source": [
    "sum(list(map(int,str_numbers)))"
   ]
  },
  {
   "cell_type": "code",
   "execution_count": 71,
   "metadata": {},
   "outputs": [
    {
     "data": {
      "text/plain": [
       "['100', '200']"
      ]
     },
     "execution_count": 71,
     "metadata": {},
     "output_type": "execute_result"
    }
   ],
   "source": [
    "re.findall('\\d\\d\\d',novel)"
   ]
  },
  {
   "cell_type": "markdown",
   "metadata": {},
   "source": [
    "#### {min,max}"
   ]
  },
  {
   "cell_type": "code",
   "execution_count": 72,
   "metadata": {},
   "outputs": [
    {
     "data": {
      "text/plain": [
       "<re.Match object; span=(0, 2), match='sa'>"
      ]
     },
     "execution_count": 72,
     "metadata": {},
     "output_type": "execute_result"
    }
   ],
   "source": [
    "re.search('.{2}','sairam')"
   ]
  },
  {
   "cell_type": "code",
   "execution_count": 73,
   "metadata": {},
   "outputs": [
    {
     "data": {
      "text/plain": [
       "<re.Match object; span=(0, 6), match='sairam'>"
      ]
     },
     "execution_count": 73,
     "metadata": {},
     "output_type": "execute_result"
    }
   ],
   "source": [
    "re.search('.{6}','sairam')"
   ]
  },
  {
   "cell_type": "code",
   "execution_count": 74,
   "metadata": {},
   "outputs": [],
   "source": [
    "re.search('.{6}','saim')"
   ]
  },
  {
   "cell_type": "code",
   "execution_count": 101,
   "metadata": {},
   "outputs": [
    {
     "data": {
      "text/plain": [
       "<re.Match object; span=(0, 6), match='samira'>"
      ]
     },
     "execution_count": 101,
     "metadata": {},
     "output_type": "execute_result"
    }
   ],
   "source": [
    "re.search('.{4,6}','samiran')"
   ]
  },
  {
   "cell_type": "code",
   "execution_count": 77,
   "metadata": {},
   "outputs": [
    {
     "data": {
      "text/plain": [
       "<re.Match object; span=(0, 5), match='saira'>"
      ]
     },
     "execution_count": 77,
     "metadata": {},
     "output_type": "execute_result"
    }
   ],
   "source": [
    "re.search('.{4,6}','saira')"
   ]
  },
  {
   "cell_type": "code",
   "execution_count": 80,
   "metadata": {},
   "outputs": [
    {
     "data": {
      "text/plain": [
       "['1', '100', '300', '0']"
      ]
     },
     "execution_count": 80,
     "metadata": {},
     "output_type": "execute_result"
    }
   ],
   "source": [
    "novel = 'every 1 has story or 100 or 3000 stories'\n",
    "re.findall('\\d{1,3}',novel)"
   ]
  },
  {
   "cell_type": "markdown",
   "metadata": {},
   "source": [
    "#### accept names which starts with either 'a' ,'c','h'"
   ]
  },
  {
   "cell_type": "markdown",
   "metadata": {},
   "source": [
    "#### [ach]\n",
    "    either a or c or h"
   ]
  },
  {
   "cell_type": "code",
   "execution_count": 102,
   "metadata": {},
   "outputs": [
    {
     "data": {
      "text/plain": [
       "<re.Match object; span=(1, 2), match='a'>"
      ]
     },
     "execution_count": 102,
     "metadata": {},
     "output_type": "execute_result"
    }
   ],
   "source": [
    "re.search('[ach]','sairam')"
   ]
  },
  {
   "cell_type": "code",
   "execution_count": 82,
   "metadata": {},
   "outputs": [],
   "source": [
    "re.search('[ch]','sairam')"
   ]
  },
  {
   "cell_type": "code",
   "execution_count": 83,
   "metadata": {},
   "outputs": [
    {
     "data": {
      "text/plain": [
       "<re.Match object; span=(0, 1), match='h'>"
      ]
     },
     "execution_count": 83,
     "metadata": {},
     "output_type": "execute_result"
    }
   ],
   "source": [
    "re.search('[ach]','hai')"
   ]
  },
  {
   "cell_type": "code",
   "execution_count": 84,
   "metadata": {},
   "outputs": [
    {
     "data": {
      "text/plain": [
       "<re.Match object; span=(3, 4), match='h'>"
      ]
     },
     "execution_count": 84,
     "metadata": {},
     "output_type": "execute_result"
    }
   ],
   "source": [
    "re.search('[a-k]','lmnhai')"
   ]
  },
  {
   "cell_type": "markdown",
   "metadata": {},
   "source": [
    "#### [^acd]\n",
    "    neither a nor c nor d"
   ]
  },
  {
   "cell_type": "code",
   "execution_count": 85,
   "metadata": {},
   "outputs": [
    {
     "data": {
      "text/plain": [
       "<re.Match object; span=(6, 7), match='h'>"
      ]
     },
     "execution_count": 85,
     "metadata": {},
     "output_type": "execute_result"
    }
   ],
   "source": [
    "re.search('[^acd]','acdacdhai')"
   ]
  },
  {
   "cell_type": "markdown",
   "metadata": {},
   "source": [
    "#### try mobile number pattern"
   ]
  },
  {
   "cell_type": "code",
   "execution_count": 87,
   "metadata": {},
   "outputs": [
    {
     "name": "stdout",
     "output_type": "stream",
     "text": [
      "9848022338\n",
      "7848022338\n"
     ]
    }
   ],
   "source": [
    "numbers = ['9848022338','984802233','7848022338','5848022338','9848022338abc']\n",
    "for mobile in numbers:\n",
    "    pattern = '^[6-9]{1}[0-9]{9}$'\n",
    "    pattern = '^[6-9]\\d{9}$'\n",
    "    if re.search(pattern,mobile):\n",
    "        print(mobile)\n",
    "\n"
   ]
  },
  {
   "cell_type": "code",
   "execution_count": null,
   "metadata": {},
   "outputs": [],
   "source": []
  },
  {
   "cell_type": "markdown",
   "metadata": {},
   "source": [
    "##### \\D\n",
    "    otherthan \\d\n",
    "    means any single character otherthan digit"
   ]
  },
  {
   "cell_type": "code",
   "execution_count": 103,
   "metadata": {},
   "outputs": [
    {
     "data": {
      "text/plain": [
       "<re.Match object; span=(3, 4), match=' '>"
      ]
     },
     "execution_count": 103,
     "metadata": {},
     "output_type": "execute_result"
    }
   ],
   "source": [
    "re.search('\\D','123 ram')"
   ]
  },
  {
   "cell_type": "markdown",
   "metadata": {},
   "source": [
    "### \\s\n",
    "    any spacing single characters"
   ]
  },
  {
   "cell_type": "code",
   "execution_count": 105,
   "metadata": {},
   "outputs": [
    {
     "data": {
      "text/plain": [
       "<re.Match object; span=(3, 4), match=' '>"
      ]
     },
     "execution_count": 105,
     "metadata": {},
     "output_type": "execute_result"
    }
   ],
   "source": [
    "re.search('\\s','sai         ram')"
   ]
  },
  {
   "cell_type": "markdown",
   "metadata": {},
   "source": [
    "#### \\S\n",
    "    otherthan \\s\n",
    "       "
   ]
  },
  {
   "cell_type": "code",
   "execution_count": 106,
   "metadata": {},
   "outputs": [
    {
     "data": {
      "text/plain": [
       "<re.Match object; span=(5, 6), match='r'>"
      ]
     },
     "execution_count": 106,
     "metadata": {},
     "output_type": "execute_result"
    }
   ],
   "source": [
    "re.search('\\S','     ram')"
   ]
  },
  {
   "cell_type": "markdown",
   "metadata": {},
   "source": [
    "##### \\w\n",
    "    single identifier character\n",
    "       a-z A-Z _ 0-9"
   ]
  },
  {
   "cell_type": "code",
   "execution_count": 107,
   "metadata": {},
   "outputs": [
    {
     "data": {
      "text/plain": [
       "<re.Match object; span=(2, 3), match='_'>"
      ]
     },
     "execution_count": 107,
     "metadata": {},
     "output_type": "execute_result"
    }
   ],
   "source": [
    "re.search('\\w','  _9az')"
   ]
  },
  {
   "cell_type": "code",
   "execution_count": 108,
   "metadata": {},
   "outputs": [
    {
     "data": {
      "text/plain": [
       "<re.Match object; span=(0, 1), match='s'>"
      ]
     },
     "execution_count": 108,
     "metadata": {},
     "output_type": "execute_result"
    }
   ],
   "source": [
    "re.search('\\w','sai')"
   ]
  },
  {
   "cell_type": "markdown",
   "metadata": {},
   "source": [
    "#### \\W\n",
    "        otherthan \\w\n",
    "        otherthan identifier characters"
   ]
  },
  {
   "cell_type": "code",
   "execution_count": 109,
   "metadata": {},
   "outputs": [
    {
     "data": {
      "text/plain": [
       "<re.Match object; span=(5, 6), match=' '>"
      ]
     },
     "execution_count": 109,
     "metadata": {},
     "output_type": "execute_result"
    }
   ],
   "source": [
    "re.search('\\W','sai1_   ram')"
   ]
  },
  {
   "cell_type": "markdown",
   "metadata": {},
   "source": [
    "#### find the count of lowercase a-z in the given data"
   ]
  },
  {
   "cell_type": "code",
   "execution_count": 111,
   "metadata": {},
   "outputs": [
    {
     "name": "stdout",
     "output_type": "stream",
     "text": [
      "['v', 'e', 'r', 'y', 'h', 'a', 's', 't', 'o', 'r', 'y']\n",
      "11\n"
     ]
    }
   ],
   "source": [
    "novel = 'Every 1 has Story'\n",
    "# output 11\n",
    "chars = re.findall('[a-z]',novel)\n",
    "print(chars)\n",
    "print(len(chars))"
   ]
  },
  {
   "cell_type": "markdown",
   "metadata": {},
   "source": [
    "#### * star\n",
    "    zero or more occurances\n"
   ]
  },
  {
   "cell_type": "code",
   "execution_count": 113,
   "metadata": {},
   "outputs": [
    {
     "name": "stdout",
     "output_type": "stream",
     "text": [
      "<re.Match object; span=(0, 0), match=''>\n"
     ]
    }
   ],
   "source": [
    "print(re.search('a*','python'))"
   ]
  },
  {
   "cell_type": "code",
   "execution_count": 114,
   "metadata": {},
   "outputs": [
    {
     "name": "stdout",
     "output_type": "stream",
     "text": [
      "<re.Match object; span=(0, 1), match='1'>\n"
     ]
    }
   ],
   "source": [
    "print(re.search('1','1111222233111'))"
   ]
  },
  {
   "cell_type": "code",
   "execution_count": 115,
   "metadata": {},
   "outputs": [
    {
     "name": "stdout",
     "output_type": "stream",
     "text": [
      "<re.Match object; span=(0, 4), match='1111'>\n"
     ]
    }
   ],
   "source": [
    "print(re.search('1*','1111222233111'))"
   ]
  },
  {
   "cell_type": "code",
   "execution_count": 117,
   "metadata": {},
   "outputs": [
    {
     "name": "stdout",
     "output_type": "stream",
     "text": [
      "<re.Match object; span=(0, 2), match='sm'>\n"
     ]
    }
   ],
   "source": [
    "print(re.search('^s.*m$','sm'))"
   ]
  },
  {
   "cell_type": "code",
   "execution_count": 118,
   "metadata": {},
   "outputs": [
    {
     "name": "stdout",
     "output_type": "stream",
     "text": [
      "<re.Match object; span=(0, 4), match='saim'>\n"
     ]
    }
   ],
   "source": [
    "print(re.search('^s.*m$','saim'))"
   ]
  },
  {
   "cell_type": "code",
   "execution_count": 120,
   "metadata": {},
   "outputs": [
    {
     "name": "stdout",
     "output_type": "stream",
     "text": [
      "<re.Match object; span=(0, 2), match='sm'>\n"
     ]
    }
   ],
   "source": [
    "print(re.search('^s*m$','sm'))"
   ]
  },
  {
   "cell_type": "code",
   "execution_count": 121,
   "metadata": {},
   "outputs": [
    {
     "name": "stdout",
     "output_type": "stream",
     "text": [
      "<re.Match object; span=(0, 5), match='ssssm'>\n"
     ]
    }
   ],
   "source": [
    "print(re.search('^s*m$','ssssm'))"
   ]
  },
  {
   "cell_type": "code",
   "execution_count": 122,
   "metadata": {},
   "outputs": [
    {
     "name": "stdout",
     "output_type": "stream",
     "text": [
      "None\n"
     ]
    }
   ],
   "source": [
    "print(re.search('^s*m$','szzzm'))"
   ]
  },
  {
   "cell_type": "markdown",
   "metadata": {},
   "source": [
    "#### +\n",
    "    1 or more\n",
    "    atleast 1 success or more success also accept"
   ]
  },
  {
   "cell_type": "code",
   "execution_count": 127,
   "metadata": {},
   "outputs": [
    {
     "data": {
      "text/plain": [
       "<re.Match object; span=(4, 8), match='1111'>"
      ]
     },
     "execution_count": 127,
     "metadata": {},
     "output_type": "execute_result"
    }
   ],
   "source": [
    "re.search('1+','22221111333111')"
   ]
  },
  {
   "cell_type": "code",
   "execution_count": 128,
   "metadata": {},
   "outputs": [],
   "source": [
    "re.search('^s.+m$','sm')"
   ]
  },
  {
   "cell_type": "code",
   "execution_count": 129,
   "metadata": {},
   "outputs": [
    {
     "data": {
      "text/plain": [
       "<re.Match object; span=(0, 6), match='sairam'>"
      ]
     },
     "execution_count": 129,
     "metadata": {},
     "output_type": "execute_result"
    }
   ],
   "source": [
    "re.search('^s.+m$','sairam')"
   ]
  },
  {
   "cell_type": "markdown",
   "metadata": {},
   "source": [
    "##### write pattern for accepting gmail "
   ]
  },
  {
   "cell_type": "markdown",
   "metadata": {},
   "source": [
    "#### write pattern to find 3 digit numbers and calculate the sum"
   ]
  },
  {
   "cell_type": "code",
   "execution_count": 136,
   "metadata": {},
   "outputs": [
    {
     "name": "stdout",
     "output_type": "stream",
     "text": [
      "only digits ['100', '150', '4000']\n",
      "only3Digits ['100', '150']\n",
      "250\n"
     ]
    }
   ],
   "source": [
    "content = '''ramu got 100 for maths, 150 for physics, \n",
    "and from school to college total 4000 marks.'''\n",
    "\n",
    "# implement logic here\n",
    "onlyDigits = re.findall('\\d+',content)\n",
    "print('only digits',onlyDigits)\n",
    "only3Digits = list( filter(lambda x:len(x)==3 , onlyDigits))\n",
    "print('only3Digits',only3Digits)\n",
    "\n",
    "print( sum( map(int, only3Digits) ) )\n",
    "\n",
    "# output 100 + 150 = 250"
   ]
  },
  {
   "cell_type": "code",
   "execution_count": 137,
   "metadata": {},
   "outputs": [],
   "source": [
    "import os"
   ]
  },
  {
   "cell_type": "code",
   "execution_count": 139,
   "metadata": {},
   "outputs": [
    {
     "data": {
      "text/plain": [
       "'D:\\\\MSTP Adv Python'"
      ]
     },
     "execution_count": 139,
     "metadata": {},
     "output_type": "execute_result"
    }
   ],
   "source": [
    "#current working Directory\n",
    "os.getcwd()"
   ]
  },
  {
   "cell_type": "code",
   "execution_count": 140,
   "metadata": {
    "collapsed": true
   },
   "outputs": [
    {
     "data": {
      "text/plain": [
       "['.ipynb_checkpoints',\n",
       " '11-23-2019.ipynb',\n",
       " 'myfun.py',\n",
       " 'Untitled.ipynb',\n",
       " 'Untitled1.ipynb',\n",
       " '__pycache__']"
      ]
     },
     "execution_count": 140,
     "metadata": {},
     "output_type": "execute_result"
    }
   ],
   "source": [
    "os.listdir()"
   ]
  },
  {
   "cell_type": "code",
   "execution_count": 141,
   "metadata": {
    "collapsed": true
   },
   "outputs": [
    {
     "data": {
      "text/plain": [
       "['All Users', 'Default', 'Default User', 'desktop.ini', 'krish', 'Public']"
      ]
     },
     "execution_count": 141,
     "metadata": {},
     "output_type": "execute_result"
    }
   ],
   "source": [
    "os.listdir('C:/Users')"
   ]
  },
  {
   "cell_type": "code",
   "execution_count": 142,
   "metadata": {
    "collapsed": true
   },
   "outputs": [
    {
     "data": {
      "text/plain": [
       "['! Vas',\n",
       " '$RECYCLE.BIN',\n",
       " '.git',\n",
       " '.ipynb_checkpoints',\n",
       " '10 ML books by Siraj',\n",
       " '11th-oct-2019.ipynb',\n",
       " 'Advanced Python',\n",
       " 'AI&ML',\n",
       " 'AI-FDP',\n",
       " 'Anaconda3',\n",
       " 'Audio book',\n",
       " 'C language',\n",
       " 'Colab',\n",
       " 'Coursera',\n",
       " 'CS109',\n",
       " 'Datasets',\n",
       " 'Desktop',\n",
       " 'Django',\n",
       " 'FDP_ML_13092019_Vignan-20190913T040203Z-001',\n",
       " 'FDP_ML_13092019_Vignan-20190913T040203Z-001.zip',\n",
       " 'Idioms',\n",
       " 'Intro ml',\n",
       " 'Jason',\n",
       " 'JuPyteR Notebook.pdf',\n",
       " 'Linux',\n",
       " 'logo.jpg',\n",
       " 'MITS_Adv_Python',\n",
       " 'MITS_FDP_Adv_Python',\n",
       " 'ML-FDP',\n",
       " 'ML_FDP_ACET_2019',\n",
       " 'MSTP',\n",
       " 'MTP_ML',\n",
       " 'NMR sir',\n",
       " 'other books',\n",
       " 'Problem_Solving_Python_2019',\n",
       " 'Problem_Solving_Skills_Using_Python_FDP_ACET_2019',\n",
       " 'programming',\n",
       " 'Prolem_Solving_Python_FDP_AEC',\n",
       " 'Python',\n",
       " 'Ref by krish',\n",
       " 'Reg Ex',\n",
       " 'Richard Hamming',\n",
       " 'Sir.C.R.Reddy College of Engineering',\n",
       " 'Softwares',\n",
       " \"Spoc's Meet on 19th July\",\n",
       " 'Subbarao sir',\n",
       " 'Sumathi',\n",
       " 'System Volume Information',\n",
       " 'UG_Emerging.pdf',\n",
       " 'Untitled Folder',\n",
       " 'Untitled.ipynb']"
      ]
     },
     "execution_count": 142,
     "metadata": {},
     "output_type": "execute_result"
    }
   ],
   "source": [
    "os.listdir('E:')"
   ]
  },
  {
   "cell_type": "code",
   "execution_count": 143,
   "metadata": {},
   "outputs": [],
   "source": [
    "os.mkdir('temp Folder')"
   ]
  },
  {
   "cell_type": "code",
   "execution_count": 146,
   "metadata": {},
   "outputs": [],
   "source": [
    "os.chdir('D:/')"
   ]
  },
  {
   "cell_type": "code",
   "execution_count": 147,
   "metadata": {},
   "outputs": [
    {
     "name": "stdout",
     "output_type": "stream",
     "text": [
      "D:\\MSTP Adv Python\n"
     ]
    }
   ],
   "source": [
    "print(os.getcwd())"
   ]
  },
  {
   "cell_type": "code",
   "execution_count": 148,
   "metadata": {},
   "outputs": [
    {
     "data": {
      "text/plain": [
       "['Decimal',\n",
       " 'Fraction',\n",
       " 'StatisticsError',\n",
       " '__all__',\n",
       " '__builtins__',\n",
       " '__cached__',\n",
       " '__doc__',\n",
       " '__file__',\n",
       " '__loader__',\n",
       " '__name__',\n",
       " '__package__',\n",
       " '__spec__',\n",
       " '_coerce',\n",
       " '_convert',\n",
       " '_counts',\n",
       " '_exact_ratio',\n",
       " '_fail_neg',\n",
       " '_find_lteq',\n",
       " '_find_rteq',\n",
       " '_isfinite',\n",
       " '_ss',\n",
       " '_sum',\n",
       " 'bisect_left',\n",
       " 'bisect_right',\n",
       " 'collections',\n",
       " 'groupby',\n",
       " 'harmonic_mean',\n",
       " 'math',\n",
       " 'mean',\n",
       " 'median',\n",
       " 'median_grouped',\n",
       " 'median_high',\n",
       " 'median_low',\n",
       " 'mode',\n",
       " 'numbers',\n",
       " 'pstdev',\n",
       " 'pvariance',\n",
       " 'stdev',\n",
       " 'variance']"
      ]
     },
     "execution_count": 148,
     "metadata": {},
     "output_type": "execute_result"
    }
   ],
   "source": [
    "import statistics\n",
    "dir(statistics)"
   ]
  },
  {
   "cell_type": "code",
   "execution_count": 149,
   "metadata": {},
   "outputs": [
    {
     "data": {
      "text/plain": [
       "3"
      ]
     },
     "execution_count": 149,
     "metadata": {},
     "output_type": "execute_result"
    }
   ],
   "source": [
    "statistics.mean([1,2,3,4,5])"
   ]
  },
  {
   "cell_type": "code",
   "execution_count": 150,
   "metadata": {},
   "outputs": [
    {
     "data": {
      "text/plain": [
       "30"
      ]
     },
     "execution_count": 150,
     "metadata": {},
     "output_type": "execute_result"
    }
   ],
   "source": [
    "statistics.median([50,20,30,10,40])"
   ]
  },
  {
   "cell_type": "code",
   "execution_count": 151,
   "metadata": {},
   "outputs": [
    {
     "data": {
      "text/plain": [
       "35.0"
      ]
     },
     "execution_count": 151,
     "metadata": {},
     "output_type": "execute_result"
    }
   ],
   "source": [
    "statistics.median([50,20,30,10,40,60])\n",
    "# 10,20,30,40,50,60"
   ]
  },
  {
   "cell_type": "code",
   "execution_count": 152,
   "metadata": {},
   "outputs": [
    {
     "data": {
      "text/plain": [
       "40"
      ]
     },
     "execution_count": 152,
     "metadata": {},
     "output_type": "execute_result"
    }
   ],
   "source": [
    "statistics.median_high([50,20,30,10,40,60])"
   ]
  },
  {
   "cell_type": "code",
   "execution_count": 153,
   "metadata": {},
   "outputs": [
    {
     "data": {
      "text/plain": [
       "30"
      ]
     },
     "execution_count": 153,
     "metadata": {},
     "output_type": "execute_result"
    }
   ],
   "source": [
    "statistics.median_low([50,20,30,10,40,60])"
   ]
  },
  {
   "cell_type": "code",
   "execution_count": 154,
   "metadata": {},
   "outputs": [
    {
     "data": {
      "text/plain": [
       "10"
      ]
     },
     "execution_count": 154,
     "metadata": {},
     "output_type": "execute_result"
    }
   ],
   "source": [
    "statistics.mode([10,20,30,10,10,10])"
   ]
  },
  {
   "cell_type": "code",
   "execution_count": 157,
   "metadata": {},
   "outputs": [
    {
     "name": "stdout",
     "output_type": "stream",
     "text": [
      "[10, 10, 10, 10, 20, 30]\n",
      "[(10, 4), (20, 1), (30, 1)]\n"
     ]
    }
   ],
   "source": [
    "from collections import Counter\n",
    "cnt = Counter([10,20,30,10,10,10])\n",
    "print(list(cnt.elements()))\n",
    "print(cnt.most_common())"
   ]
  },
  {
   "cell_type": "code",
   "execution_count": 161,
   "metadata": {},
   "outputs": [
    {
     "name": "stdout",
     "output_type": "stream",
     "text": [
      "[('b', 4)]\n",
      "[('b', 4), ('a', 3)]\n"
     ]
    }
   ],
   "source": [
    "cnt1 = Counter('abcabcbba')\n",
    "print(cnt1.most_common(1))\n",
    "print(cnt1.most_common(2))"
   ]
  },
  {
   "cell_type": "code",
   "execution_count": 163,
   "metadata": {
    "collapsed": true
   },
   "outputs": [
    {
     "name": "stdout",
     "output_type": "stream",
     "text": [
      "['ArithmeticError', 'AssertionError', 'AttributeError', 'BaseException', 'BlockingIOError', 'BrokenPipeError', 'BufferError', 'BytesWarning', 'ChildProcessError', 'ConnectionAbortedError', 'ConnectionError', 'ConnectionRefusedError', 'ConnectionResetError', 'DeprecationWarning', 'EOFError', 'Ellipsis', 'EnvironmentError', 'Exception', 'False', 'FileExistsError', 'FileNotFoundError', 'FloatingPointError', 'FutureWarning', 'GeneratorExit', 'IOError', 'ImportError', 'ImportWarning', 'IndentationError', 'IndexError', 'InterruptedError', 'IsADirectoryError', 'KeyError', 'KeyboardInterrupt', 'LookupError', 'MemoryError', 'ModuleNotFoundError', 'NameError', 'None', 'NotADirectoryError', 'NotImplemented', 'NotImplementedError', 'OSError', 'OverflowError', 'PendingDeprecationWarning', 'PermissionError', 'ProcessLookupError', 'RecursionError', 'ReferenceError', 'ResourceWarning', 'RuntimeError', 'RuntimeWarning', 'StopAsyncIteration', 'StopIteration', 'SyntaxError', 'SyntaxWarning', 'SystemError', 'SystemExit', 'TabError', 'TimeoutError', 'True', 'TypeError', 'UnboundLocalError', 'UnicodeDecodeError', 'UnicodeEncodeError', 'UnicodeError', 'UnicodeTranslateError', 'UnicodeWarning', 'UserWarning', 'ValueError', 'Warning', 'WindowsError', 'ZeroDivisionError', '__IPYTHON__', '__build_class__', '__debug__', '__doc__', '__import__', '__loader__', '__name__', '__package__', '__spec__', 'abs', 'all', 'any', 'ascii', 'bin', 'bool', 'breakpoint', 'bytearray', 'bytes', 'callable', 'chr', 'classmethod', 'compile', 'complex', 'copyright', 'credits', 'delattr', 'dict', 'dir', 'display', 'divmod', 'enumerate', 'eval', 'exec', 'filter', 'float', 'format', 'frozenset', 'get_ipython', 'getattr', 'globals', 'hasattr', 'hash', 'help', 'hex', 'id', 'input', 'int', 'isinstance', 'issubclass', 'iter', 'len', 'license', 'list', 'locals', 'map', 'max', 'memoryview', 'min', 'next', 'object', 'oct', 'open', 'ord', 'pow', 'print', 'property', 'range', 'repr', 'reversed', 'round', 'set', 'setattr', 'slice', 'sorted', 'staticmethod', 'str', 'sum', 'super', 'tuple', 'type', 'vars', 'zip']\n"
     ]
    }
   ],
   "source": [
    "print(dir(__builtins__))"
   ]
  },
  {
   "cell_type": "code",
   "execution_count": 164,
   "metadata": {
    "collapsed": true
   },
   "outputs": [
    {
     "name": "stdout",
     "output_type": "stream",
     "text": [
      "\n",
      "Please wait a moment while I gather a list of all available modules...\n",
      "\n"
     ]
    },
    {
     "name": "stderr",
     "output_type": "stream",
     "text": [
      "C:\\Users\\krish\\Anaconda3\\lib\\site-packages\\IPython\\kernel\\__init__.py:13: ShimWarning: The `IPython.kernel` package has been deprecated since IPython 4.0.You should import from ipykernel or jupyter_client instead.\n",
      "  \"You should import from ipykernel or jupyter_client instead.\", ShimWarning)\n",
      "WARNING: AstropyDeprecationWarning: astropy.utils.compat.futures is now deprecated - use concurrent.futures instead [astropy.utils.compat.futures]\n",
      "WARNING: Logging before flag parsing goes to stderr.\n",
      "W1124 15:46:55.106474 13108 logger.py:200] AstropyDeprecationWarning: astropy.utils.compat.futures is now deprecated - use concurrent.futures instead\n",
      "C:\\Users\\krish\\Anaconda3\\lib\\site-packages\\odo\\backends\\pandas.py:102: FutureWarning: pandas.tslib is deprecated and will be removed in a future version.\n",
      "You can access NaTType as type(pandas.NaT)\n",
      "  @convert.register((pd.Timestamp, pd.Timedelta), (pd.tslib.NaTType, type(None)))\n",
      "Using TensorFlow backend.\n",
      "C:\\Users\\krish\\Anaconda3\\lib\\site-packages\\nltk\\twitter\\__init__.py:20: UserWarning: The twython library has not been installed. Some functionality from the twitter package will not be available.\n",
      "  warnings.warn(\"The twython library has not been installed. \"\n",
      "C:\\Users\\krish\\Anaconda3\\lib\\site-packages\\skimage\\novice\\__init__.py:103: UserWarning: The `skimage.novice` module was deprecated in version 0.14. It will be removed in 0.16.\n",
      "  warnings.warn(\"The `skimage.novice` module was deprecated in version 0.14. \"\n",
      "C:\\Users\\krish\\Anaconda3\\lib\\site-packages\\skimage\\viewer\\utils\\core.py:10: UserWarning: Recommended matplotlib backend is `Agg` for full skimage.viewer functionality.\n",
      "  warn(\"Recommended matplotlib backend is `Agg` for full \"\n",
      "C:\\Users\\krish\\Anaconda3\\lib\\site-packages\\sklearn\\ensemble\\weight_boosting.py:29: DeprecationWarning: numpy.core.umath_tests is an internal NumPy module and should not be imported. It will be removed in a future NumPy release.\n",
      "  from numpy.core.umath_tests import inner1d\n",
      "C:\\Users\\krish\\Anaconda3\\lib\\site-packages\\qtawesome\\iconic_font.py:268: UserWarning: You need to have a running QApplication to use QtAwesome!\n",
      "  warnings.warn(\"You need to have a running \"\n",
      "W1124 15:51:07.528394 13108 deprecation_wrapper.py:119] From C:\\Users\\krish\\Anaconda3\\lib\\site-packages\\tensorflow_estimator\\python\\estimator\\api\\_v1\\estimator\\__init__.py:10: The name tf.estimator.inputs is deprecated. Please use tf.compat.v1.estimator.inputs instead.\n",
      "\n",
      "C:\\Users\\krish\\Anaconda3\\lib\\site-packages\\tqdm\\autonotebook\\__init__.py:14: TqdmExperimentalWarning: Using `tqdm.autonotebook.tqdm` in notebook mode. Use `tqdm.tqdm` instead to force console mode (e.g. in jupyter console)\n",
      "  \" (e.g. in jupyter console)\", TqdmExperimentalWarning)\n",
      "C:\\Users\\krish\\Anaconda3\\lib\\site-packages\\twisted\\internet\\iocpreactor\\reactor.py:30: UserWarning: pyOpenSSL 0.10 or newer is required for SSL support in iocpreactor. It is missing, so the reactor will not support SSL APIs.\n",
      "  \"pyOpenSSL 0.10 or newer is required for SSL support in iocpreactor. \"\n",
      "C:\\Users\\krish\\Anaconda3\\lib\\pkgutil.py:107: VisibleDeprecationWarning: zmq.eventloop.minitornado is deprecated in pyzmq 14.0 and will be removed.\n",
      "    Install tornado itself to use zmq with the tornado IOLoop.\n",
      "    \n",
      "  yield from walk_packages(path, info.name+'.', onerror)\n"
     ]
    },
    {
     "name": "stdout",
     "output_type": "stream",
     "text": [
      "Crypto              cProfile            marshal             socks\n",
      "Cython              calendar            math                sockshandler\n",
      "IPython             certifi             matplotlib          sortedcollections\n",
      "OpenSSL             cffi                mccabe              sortedcontainers\n",
      "PIL                 cgi                 menuinst            sphinx\n",
      "PyQt5               cgitb               mimetypes           sphinxcontrib\n",
      "__future__          chardet             mistune             spyder\n",
      "_abc                chunk               mkl                 spyder_breakpoints\n",
      "_ast                click               mkl_fft             spyder_io_dcm\n",
      "_asyncio            cloudpickle         mkl_random          spyder_io_hdf5\n",
      "_bisect             clyent              mmap                spyder_kernels\n",
      "_blake2             cmath               mmapfile            spyder_profiler\n",
      "_bootlocale         cmd                 mmsystem            spyder_pylint\n",
      "_bz2                code                modulefinder        sqlalchemy\n",
      "_cffi_backend       codecs              more_itertools      sqlite3\n",
      "_codecs             codeop              mpmath              sre_compile\n",
      "_codecs_cn          collections         msgpack             sre_constants\n",
      "_codecs_hk          colorama            msilib              sre_parse\n",
      "_codecs_iso2022     colorsys            msvcrt              ssl\n",
      "_codecs_jp          commctrl            multipledispatch    sspi\n",
      "_codecs_kr          compileall          multiprocessing     sspicon\n",
      "_codecs_tw          comtypes            myfun               stat\n",
      "_collections        concurrent          navigator_updater   statistics\n",
      "_collections_abc    conda               nbconvert           statsmodels\n",
      "_compat_pickle      conda_build         nbformat            storemagic\n",
      "_compression        conda_env           netbios             string\n",
      "_contextvars        conda_package_handling netrc               stringprep\n",
      "_csv                configparser        networkx            struct\n",
      "_ctypes             constantly          nltk                subprocess\n",
      "_ctypes_test        contextlib          nntplib             sunau\n",
      "_datetime           contextlib2         nose                symbol\n",
      "_decimal            contextvars         notebook            sympy\n",
      "_distutils_findvs   copy                nt                  sympyprinting\n",
      "_dummy_thread       copyreg             ntpath              symtable\n",
      "_elementtree        crypt               ntsecuritycon       sys\n",
      "_functools          cryptography        nturl2path          sysconfig\n",
      "_hashlib            csv                 numba               tables\n",
      "_heapq              ctypes              numbers             tabnanny\n",
      "_imp                curl                numexpr             tarfile\n",
      "_io                 curses              numpy               tblib\n",
      "_json               cwp                 numpydoc            telnetlib\n",
      "_locale             cycler              odbc                tempfile\n",
      "_lsprof             cython              odo                 tensorboard\n",
      "_lzma               cythonmagic         olefile             tensorflow\n",
      "_markupbase         cytoolz             opcode              tensorflow_estimator\n",
      "_md5                dask                openpyxl            termcolor\n",
      "_msi                dataclasses         operator            terminado\n",
      "_multibytecodec     datashape           optparse            test\n",
      "_multiprocessing    datetime            os                  test_data\n",
      "_nsis               dateutil            packaging           test_path\n",
      "_opcode             dbi                 paho                test_pycosat\n",
      "_operator           dbm                 pandas              testpath\n",
      "_osx_support        dde                 pandocfilters       tests\n",
      "_overlapped         decimal             parser              textwrap\n",
      "_pickle             decorator           parso               this\n",
      "_py_abc             defusedxml          partd               threading\n",
      "_pydecimal          difflib             pasta               time\n",
      "_pyio               dis                 path                timeit\n",
      "_pytest             distributed         pathlib             timer\n",
      "_queue              distutils           pathlib2            tkinter\n",
      "_random             docs                patsy               tlz\n",
      "_sha1               doctest             pdb                 token\n",
      "_sha256             docutils            pep8                tokenize\n",
      "_sha3               dummy_threading     perfmon             toolz\n",
      "_sha512             easy_install        pickle              tornado\n",
      "_signal             email               pickleshare         tqdm\n",
      "_sitebuiltins       encodings           pickletools         trace\n",
      "_socket             ensurepip           pip                 traceback\n",
      "_sqlite3            entrypoints         pipes               tracemalloc\n",
      "_sre                enum                pkg_resources       traitlets\n",
      "_ssl                errno               pkginfo             tty\n",
      "_stat               et_xmlfile          pkgutil             turtle\n",
      "_string             fastcache           platform            turtledemo\n",
      "_strptime           faulthandler        plistlib            twisted\n",
      "_struct             filecmp             pluggy              types\n",
      "_symtable           fileinput           ply                 typing\n",
      "_system_path        filelock            poplib              unicodecsv\n",
      "_testbuffer         flask               posixpath           unicodedata\n",
      "_testcapi           flask_cors          pprint              unittest\n",
      "_testconsole        fnmatch             profile             urllib\n",
      "_testimportmultiple formatter           prometheus_client   urllib3\n",
      "_testmultiphase     fractions           prompt_toolkit      uu\n",
      "_thread             ftplib              pstats              uuid\n",
      "_threading_local    functools           psutil              venv\n",
      "_tkinter            gast                pty                 warnings\n",
      "_tracemalloc        gc                  py                  wave\n",
      "_warnings           genericpath         py_compile          wcwidth\n",
      "_weakref            getopt              pyasn1              weakref\n",
      "_weakrefset         getpass             pyasn1_modules      webbrowser\n",
      "_win32sysloader     gettext             pyclbr              webencodings\n",
      "_winapi             gevent              pycodestyle         werkzeug\n",
      "_winxptheme         glob                pycosat             wheel\n",
      "_yaml               glob2               pycparser           widgetsnbextension\n",
      "abc                 googlesearch        pycurl              win2kras\n",
      "absl                greenlet            pydoc               win32api\n",
      "adodbapi            grpc                pydoc_data          win32clipboard\n",
      "afxres              gzip                pydotplus           win32com\n",
      "aifc                h5py                pyexpat             win32con\n",
      "alabaster           hashlib             pyflakes            win32console\n",
      "anaconda_navigator  heapdict            pygments            win32cred\n",
      "anaconda_project    heapq               pylab               win32crypt\n",
      "antigravity         hmac                pylint              win32cryptcon\n",
      "appdirs             html                pyodbc              win32event\n",
      "argparse            html5lib            pyparsing           win32evtlog\n",
      "array               http                pytest              win32evtlogutil\n",
      "asn1crypto          hyperlink           pytest_arraydiff    win32file\n",
      "ast                 idlelib             pytest_doctestplus  win32gui\n",
      "astor               idna                pytest_openfiles    win32gui_struct\n",
      "astroid             imageio             pytest_remotedata   win32help\n",
      "astropy             imagesize           pythoncom           win32inet\n",
      "asynchat            imaplib             pytz                win32inetcon\n",
      "asyncio             imghdr              pywin               win32job\n",
      "asyncore            imp                 pywin32_testutil    win32lz\n",
      "atexit              importlib           pywintypes          win32net\n",
      "atomicwrites        incremental         pywt                win32netcon\n",
      "attr                inspect             pyximport           win32pdh\n",
      "audioop             io                  qtawesome           win32pdhquery\n"
     ]
    },
    {
     "name": "stdout",
     "output_type": "stream",
     "text": [
      "audioread           ipaddress           qtconsole           win32pdhutil\n",
      "automat             ipykernel           qtpy                win32pipe\n",
      "autoreload          ipykernel_launcher  queue               win32print\n",
      "babel               ipython_genutils    quopri              win32process\n",
      "backcall            ipywidgets          random              win32profile\n",
      "backports           isapi               rasutil             win32ras\n",
      "base64              isort               re                  win32rcparser\n",
      "bdb                 itertools           regcheck            win32security\n",
      "binascii            itsdangerous        regutil             win32service\n",
      "binhex              jdcal               reprlib             win32serviceutil\n",
      "binstar_client      jedi                requests            win32timezone\n",
      "bisect              jinja2              resampy             win32trace\n",
      "bitarray            jmespath            rlcompleter         win32traceutil\n",
      "bkcharts            joblib              rmagic              win32transaction\n",
      "blaze               json                rope                win32ts\n",
      "bleach              jsonschema          ruamel_yaml         win32ui\n",
      "bokeh               jupyter             run                 win32uiole\n",
      "boto                jupyter_client      runpy               win32verstamp\n",
      "boto3               jupyter_console     s3transfer          win32wnet\n",
      "botocore            jupyter_contrib_core sched               win_inet_pton\n",
      "bottleneck          jupyter_contrib_nbextensions scipy               win_unicode_console\n",
      "brain_attrs         jupyter_core        scripts             wincertstore\n",
      "brain_builtin_inference jupyter_highlight_selected_word seaborn             winerror\n",
      "brain_collections   jupyter_nbextensions_configurator secrets             winioctlcon\n",
      "brain_curses        jupyterlab          select              winnt\n",
      "brain_dateutil      jupyterlab_launcher selectors           winperf\n",
      "brain_fstrings      keras               send2trash          winpty\n",
      "brain_functools     keras_applications  service_identity    winreg\n",
      "brain_gi            keras_preprocessing servicemanager      winsound\n",
      "brain_hashlib       keyring             setuptools          winxpgui\n",
      "brain_io            keyword             shelve              winxptheme\n",
      "brain_mechanize     kiwisolver          shlex               wrapt\n",
      "brain_multiprocessing latex_envs          shutil              wsgiref\n",
      "brain_namedtuple_enum lazy_object_proxy   signal              xdrlib\n",
      "brain_nose          lib2to3             simplegeneric       xgboost\n",
      "brain_numpy         libarchive          singledispatch      xlrd\n",
      "brain_pkg_resources librosa             singledispatch_helpers xlsxwriter\n",
      "brain_pytest        lightgbm            sip                 xlwings\n",
      "brain_qt            linecache           sipconfig           xlwt\n",
      "brain_random        llvmlite            sipdistutils        xml\n",
      "brain_re            locale              site                xmlrpc\n",
      "brain_six           locket              six                 xxsubtype\n",
      "brain_ssl           logging             skimage             yaml\n",
      "brain_subprocess    lxml                sklearn             zict\n",
      "brain_threading     lzma                smtpd               zipapp\n",
      "brain_typing        macpath             smtplib             zipfile\n",
      "brain_uuid          mailbox             sndhdr              zipimport\n",
      "bs4                 mailcap             snowballstemmer     zlib\n",
      "builtins            markdown            socket              zmq\n",
      "bz2                 markupsafe          socketserver        zope\n",
      "\n",
      "Enter any module name to get more help.  Or, type \"modules spam\" to search\n",
      "for modules whose name or summary contain the string \"spam\".\n",
      "\n"
     ]
    }
   ],
   "source": [
    "help('modules')"
   ]
  },
  {
   "cell_type": "code",
   "execution_count": 166,
   "metadata": {
    "collapsed": true
   },
   "outputs": [
    {
     "data": {
      "text/plain": [
       "['C:\\\\Users\\\\krish\\\\Anaconda3\\\\lib\\\\site-packages\\\\spyder\\\\utils\\\\help',\n",
       " '',\n",
       " 'D:\\\\MSTP Adv Python',\n",
       " 'C:\\\\Users\\\\krish\\\\Anaconda3\\\\python37.zip',\n",
       " 'C:\\\\Users\\\\krish\\\\Anaconda3\\\\DLLs',\n",
       " 'C:\\\\Users\\\\krish\\\\Anaconda3\\\\lib',\n",
       " 'C:\\\\Users\\\\krish\\\\Anaconda3',\n",
       " 'C:\\\\Users\\\\krish\\\\Anaconda3\\\\lib\\\\site-packages',\n",
       " 'C:\\\\Users\\\\krish\\\\Anaconda3\\\\lib\\\\site-packages\\\\win32',\n",
       " 'C:\\\\Users\\\\krish\\\\Anaconda3\\\\lib\\\\site-packages\\\\win32\\\\lib',\n",
       " 'C:\\\\Users\\\\krish\\\\Anaconda3\\\\lib\\\\site-packages\\\\Pythonwin',\n",
       " 'C:\\\\Users\\\\krish\\\\Anaconda3\\\\lib\\\\site-packages\\\\IPython\\\\extensions',\n",
       " 'C:\\\\Users\\\\krish\\\\.ipython',\n",
       " 'C:\\\\Users\\\\krish\\\\Anaconda3\\\\lib\\\\site-packages\\\\astroid\\\\brain']"
      ]
     },
     "execution_count": 166,
     "metadata": {},
     "output_type": "execute_result"
    }
   ],
   "source": [
    "import sys\n",
    "sys.path"
   ]
  },
  {
   "cell_type": "code",
   "execution_count": 167,
   "metadata": {},
   "outputs": [
    {
     "data": {
      "text/plain": [
       "'3.7.0 (default, Jun 28 2018, 08:04:48) [MSC v.1912 64 bit (AMD64)]'"
      ]
     },
     "execution_count": 167,
     "metadata": {},
     "output_type": "execute_result"
    }
   ],
   "source": [
    "sys.version"
   ]
  },
  {
   "cell_type": "code",
   "execution_count": null,
   "metadata": {},
   "outputs": [],
   "source": []
  }
 ],
 "metadata": {
  "kernelspec": {
   "display_name": "Python 3",
   "language": "python",
   "name": "python3"
  },
  "language_info": {
   "codemirror_mode": {
    "name": "ipython",
    "version": 3
   },
   "file_extension": ".py",
   "mimetype": "text/x-python",
   "name": "python",
   "nbconvert_exporter": "python",
   "pygments_lexer": "ipython3",
   "version": "3.7.0"
  }
 },
 "nbformat": 4,
 "nbformat_minor": 2
}
